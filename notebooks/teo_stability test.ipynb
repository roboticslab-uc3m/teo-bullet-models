{
 "cells": [
  {
   "cell_type": "markdown",
   "metadata": {},
   "source": [
    "# TEO Simulation in PyBullet"
   ]
  },
  {
   "cell_type": "markdown",
   "metadata": {},
   "source": [
    "This notebook contains an example using pybullet to perform a stability test. We will first load the robot in its initial position, enable position control and simulate for a few seconds to correct for the ability of the robot to mantain the position. Then a joint/torque sensor will be aded to the ankle to measeure the ground reaction as it performs a movement."
   ]
  },
  {
   "cell_type": "markdown",
   "metadata": {},
   "source": [
    "## Setup"
   ]
  },
  {
   "cell_type": "markdown",
   "metadata": {},
   "source": [
    "Import the necesary libraries"
   ]
  },
  {
   "cell_type": "code",
   "execution_count": 20,
   "metadata": {},
   "outputs": [],
   "source": [
    "import pybullet as p\n",
    "import numpy as np\n",
    "import pybullet_data\n",
    "import time\n",
    "from math import radians, degrees\n",
    "import os, inspect\n",
    "currentdir = !pwd \n",
    "currentdir = currentdir[0]\n",
    "parentdir = os.path.dirname(currentdir)\n",
    "urdf_root = os.path.join(parentdir,\"bullet\")"
   ]
  },
  {
   "cell_type": "markdown",
   "metadata": {},
   "source": [
    "Start the physics client in Graphic mode"
   ]
  },
  {
   "cell_type": "code",
   "execution_count": 21,
   "metadata": {},
   "outputs": [
    {
     "ename": "error",
     "evalue": "Only one local in-process GUI/GUI_SERVER connection allowed. Use DIRECT connection mode or start a separate GUI physics server (ExampleBrowser, App_SharedMemoryPhysics_GUI, App_SharedMemoryPhysics_VR) and connect over SHARED_MEMORY, UDP or TCP instead.",
     "output_type": "error",
     "traceback": [
      "\u001b[0;31m---------------------------------------------------------------------------\u001b[0m",
      "\u001b[0;31merror\u001b[0m                                     Traceback (most recent call last)",
      "Cell \u001b[0;32mIn[21], line 1\u001b[0m\n\u001b[0;32m----> 1\u001b[0m physicsClient \u001b[39m=\u001b[39m p\u001b[39m.\u001b[39;49mconnect(p\u001b[39m.\u001b[39;49mGUI)\n",
      "\u001b[0;31merror\u001b[0m: Only one local in-process GUI/GUI_SERVER connection allowed. Use DIRECT connection mode or start a separate GUI physics server (ExampleBrowser, App_SharedMemoryPhysics_GUI, App_SharedMemoryPhysics_VR) and connect over SHARED_MEMORY, UDP or TCP instead."
     ]
    }
   ],
   "source": [
    "physicsClient = p.connect(p.GUI)"
   ]
  },
  {
   "cell_type": "markdown",
   "metadata": {},
   "source": [
    "Add path for PyBullet exaples and useful assets such as the ground plane "
   ]
  },
  {
   "cell_type": "code",
   "execution_count": 22,
   "metadata": {},
   "outputs": [],
   "source": [
    "p.setAdditionalSearchPath(pybullet_data.getDataPath())"
   ]
  },
  {
   "cell_type": "markdown",
   "metadata": {},
   "source": [
    "Set the gravity"
   ]
  },
  {
   "cell_type": "code",
   "execution_count": 23,
   "metadata": {},
   "outputs": [],
   "source": [
    "p.setGravity(0,0,-9.79983)"
   ]
  },
  {
   "cell_type": "markdown",
   "metadata": {},
   "source": [
    "Load the ground"
   ]
  },
  {
   "cell_type": "code",
   "execution_count": 24,
   "metadata": {},
   "outputs": [],
   "source": [
    "planeId = p.loadURDF(\"plane.urdf\")"
   ]
  },
  {
   "cell_type": "markdown",
   "metadata": {},
   "source": [
    "Load the TEO urdf file above the ground plane"
   ]
  },
  {
   "cell_type": "code",
   "execution_count": 25,
   "metadata": {},
   "outputs": [],
   "source": [
    "teoStartOrientation = p.getQuaternionFromEuler([0,0,0])\n",
    "teoStartPosition = [0,0,0.820932]\n",
    "urdf_path = os.path.join(urdf_root,\"TEO.urdf\")\n",
    "teoId = p.loadURDF(urdf_path,teoStartPosition ,teoStartOrientation)\n",
    "jointPositions=[ 0.000749, 0.001018, 0.000723, 0.000542, 0.000637, 0.262536, 0.000736, 0.000747, 0.000727, 0.000729, 0.000832, -0.086529, 0.000735, 0.000733, 0.000727, 0.000730, 0.000897, 0.262507, 0.000724, 0.000408, 0.000791, -0.260378, 0.000000, 0.000660, 0.210138, -0.400503, 0.803548, -0.313384, -0.208710, 0.000000]\n",
    "for jointIndex in range (p.getNumJoints(teoId)):\n",
    "    p.resetJointState(teoId,jointIndex,jointPositions[jointIndex])\n"
   ]
  },
  {
   "cell_type": "code",
   "execution_count": 26,
   "metadata": {},
   "outputs": [
    {
     "data": {
      "text/plain": [
       "'/tmp/models'"
      ]
     },
     "execution_count": 26,
     "metadata": {},
     "output_type": "execute_result"
    }
   ],
   "source": [
    "currentdir = os.path.dirname(os.path.abspath(inspect.getfile(inspect.currentframe())))\n",
    "parentdir = os.path.dirname(currentdir)\n",
    "urdf_root = os.path.join(parentdir,\"models\")\n",
    "urdf_root"
   ]
  },
  {
   "cell_type": "markdown",
   "metadata": {},
   "source": [
    "If loaded correctly we should see all the joint names and their joint ids"
   ]
  },
  {
   "cell_type": "code",
   "execution_count": 28,
   "metadata": {
    "scrolled": true
   },
   "outputs": [
    {
     "name": "stdout",
     "output_type": "stream",
     "text": [
      "b'waist_yaw' 0\n",
      "b'waist_pitch' 1\n",
      "b'head_yaw' 2\n",
      "b'head_pitch' 3\n",
      "b'l_shoulder_pitch' 4\n",
      "b'l_shoulder_roll' 5\n",
      "b'l_shoulder_yaw' 6\n",
      "b'l_elbow_pitch' 7\n",
      "b'l_wrist_yaw' 8\n",
      "b'l_wrist_pitch' 9\n",
      "b'r_shoulder_pitch' 10\n",
      "b'r_shoulder_roll' 11\n",
      "b'r_shoulder_yaw' 12\n",
      "b'r_elbow_pitch' 13\n",
      "b'r_wrist_yaw' 14\n",
      "b'r_wrist_pitch' 15\n",
      "b'l_hip_yaw' 16\n",
      "b'l_hip_roll' 17\n",
      "b'l_hip_pitch' 18\n",
      "b'l_knee_pitch' 19\n",
      "b'l_ankle_pitch' 20\n",
      "b'l_ankle_roll' 21\n",
      "b'l_sole_joint' 22\n",
      "b'r_hip_yaw' 23\n",
      "b'r_hip_roll' 24\n",
      "b'r_hip_pitch' 25\n",
      "b'r_knee_pitch' 26\n",
      "b'r_ankle_pitch' 27\n",
      "b'r_ankle_roll' 28\n",
      "b'r_sole_joint' 29\n"
     ]
    }
   ],
   "source": [
    "n_joints = p.getNumJoints(teoId)\n",
    "p.getNumJoints(teoId)\n",
    "\n",
    "for i in range(n_joints):\n",
    "    print(p.getJointInfo(teoId,i)[1],i)"
   ]
  },
  {
   "cell_type": "markdown",
   "metadata": {},
   "source": [
    "### Define starting position"
   ]
  },
  {
   "cell_type": "markdown",
   "metadata": {},
   "source": [
    "We set the desired joint positions for the joint controllers to achieve. We also set the max force to the ones defined by the urdf and the max velocities to what we desire."
   ]
  },
  {
   "cell_type": "code",
   "execution_count": 29,
   "metadata": {},
   "outputs": [],
   "source": [
    "n_joints = p.getNumJoints(teoId)\n",
    "\n",
    "jointIndices = [0] * n_joints\n",
    "targetPos = [0.0] * n_joints\n",
    "maxVelocities = [radians(1)] * n_joints\n",
    "maxForces = [0.0] * n_joints\n",
    "\n",
    "\n",
    "for i in range(n_joints):\n",
    "    jointIndices[i] = i\n",
    "    maxForces[i] = p.getJointInfo(teoId,i)[10]\n",
    "    \n",
    "    \n",
    "    if p.getJointInfo(teoId,i)[1] == 'waist_yaw':\n",
    "        targetPos[i] = 0\n",
    "    elif p.getJointInfo(teoId,i)[1] == 'r_shoulder_roll':\n",
    "        targetPos[i] = radians(-5)\n",
    "        \n",
    "    elif p.getJointInfo(teoId,i)[1] == 'r_hip_roll':\n",
    "        targetPos[i] = radians(12)\n",
    "    elif p.getJointInfo(teoId,i)[1] == 'r_hip_pitch':\n",
    "        targetPos[i] = radians(-23)\n",
    "    elif p.getJointInfo(teoId,i)[1] == 'r_knee_pitch':\n",
    "        targetPos[i] = radians(46)\n",
    "    elif p.getJointInfo(teoId,i)[1] == 'r_ankle_pitch':\n",
    "        targetPos[i] = radians(-23)\n",
    "    elif p.getJointInfo(teoId,i)[1] == 'r_ankle_roll':\n",
    "        targetPos[i] = radians(-12)\n",
    "        \n",
    "    elif p.getJointInfo(teoId,i)[1] == 'l_hip_roll':\n",
    "        targetPos[i] = radians(15)\n",
    "        maxForces[i] = 60\n",
    "    elif p.getJointInfo(teoId,i)[1] == 'l_ankle_roll':\n",
    "        targetPos[i] = radians(-15)\n",
    "        \n",
    "    elif p.getJointInfo(teoId,i)[1] == 'l_shoulder_roll':\n",
    "        targetPos[i] = radians(15)\n",
    "    else:\n",
    "        targetPos[i] = 0\n",
    "        "
   ]
  },
  {
   "cell_type": "markdown",
   "metadata": {},
   "source": [
    "We set the joint control with the created arrays and set it to position control."
   ]
  },
  {
   "cell_type": "code",
   "execution_count": 30,
   "metadata": {},
   "outputs": [],
   "source": [
    "mode = p.POSITION_CONTROL\n",
    "\n",
    "p.setJointMotorControlArray(teoId,\n",
    "                            jointIndices, \n",
    "                            controlMode=mode,\n",
    "                            forces=maxForces,\n",
    "                            targetVelocities = maxVelocities,\n",
    "                            targetPositions = targetPos\n",
    "                           )"
   ]
  },
  {
   "cell_type": "markdown",
   "metadata": {},
   "source": [
    "Advance simulation until the robot is stable"
   ]
  },
  {
   "cell_type": "code",
   "execution_count": 31,
   "metadata": {},
   "outputs": [],
   "source": [
    "for i in range (3000):\n",
    "    p.stepSimulation()\n",
    "    time.sleep(1./240.)"
   ]
  },
  {
   "cell_type": "markdown",
   "metadata": {},
   "source": [
    "### Begin the Experiment"
   ]
  },
  {
   "cell_type": "markdown",
   "metadata": {},
   "source": [
    "Create a joint/force sensor in the ankle and save the result at each simulation step."
   ]
  },
  {
   "cell_type": "code",
   "execution_count": 12,
   "metadata": {},
   "outputs": [],
   "source": [
    "waistId = 0\n",
    "shoulderId = 11\n",
    "soleId = 22\n",
    "\n",
    "exp_joints = [waistId, shoulderId]\n",
    "\n",
    "expMaxPos = [radians(45), radians(-50)] \n",
    "expVelocities = [radians(15),radians(-15)]\n",
    "expMaxForces =[p.getJointInfo(teoId,waistId)[10],p.getJointInfo(teoId,waistId)[10]]\n",
    "\n",
    "mode = p.VELOCITY_CONTROL\n",
    "        \n",
    "p.setJointMotorControlArray(teoId,\n",
    "                            exp_joints, \n",
    "                            controlMode=mode,\n",
    "                            forces=expMaxForces,\n",
    "                            targetVelocities = expVelocities,\n",
    "                            targetPositions = expMaxPos\n",
    "                           )\n",
    "p.enableJointForceTorqueSensor(teoId, soleId, 1)"
   ]
  },
  {
   "cell_type": "code",
   "execution_count": 15,
   "metadata": {
    "scrolled": true
   },
   "outputs": [],
   "source": [
    "timesteps = 3000\n",
    "results = np.zeros((timesteps,6))\n",
    "\n",
    "\n",
    "for i in range(timesteps):\n",
    "    p.stepSimulation()\n",
    "    data = list(zip(*p.getJointStates(teoId,[waistId, shoulderId, soleId])))\n",
    "    results[i]=np.asarray([time.time(), degrees(data[0][0]),degrees(data[0][1]), data[2][2][2], data[2][2][3],data[2][2][4]])\n",
    "    time.sleep(1./240.)\n"
   ]
  },
  {
   "cell_type": "code",
   "execution_count": 16,
   "metadata": {},
   "outputs": [],
   "source": [
    "np.savetxt(\"bullet_test.csv\", results, delimiter=\",\")"
   ]
  },
  {
   "cell_type": "markdown",
   "metadata": {},
   "source": [
    "### Visualize results"
   ]
  },
  {
   "cell_type": "code",
   "execution_count": 17,
   "metadata": {},
   "outputs": [],
   "source": [
    "import matplotlib.pyplot as plt\n",
    "import csv"
   ]
  },
  {
   "cell_type": "code",
   "execution_count": 19,
   "metadata": {},
   "outputs": [],
   "source": [
    "import pandas as pd"
   ]
  },
  {
   "cell_type": "code",
   "execution_count": 20,
   "metadata": {},
   "outputs": [],
   "source": [
    "experiment = pd.read_csv('bullet_test.csv',index_col=0)"
   ]
  },
  {
   "cell_type": "code",
   "execution_count": 25,
   "metadata": {},
   "outputs": [
    {
     "data": {
      "text/plain": [
       "<matplotlib.legend.Legend at 0x7f081c06e2e8>"
      ]
     },
     "execution_count": 25,
     "metadata": {},
     "output_type": "execute_result"
    },
    {
     "data": {
      "image/png": "[encoded data removed]",
      "text/plain": [
       "<Figure size 432x288 with 1 Axes>"
      ]
     },
     "metadata": {},
     "output_type": "display_data"
    }
   ],
   "source": [
    "plot = experiment.plot()\n",
    "plot.legend('')"
   ]
  },
  {
   "cell_type": "code",
   "execution_count": null,
   "metadata": {},
   "outputs": [],
   "source": []
  }
 ],
 "metadata": {
  "kernelspec": {
   "display_name": "Python 3",
   "language": "python",
   "name": "python3"
  },
  "language_info": {
   "codemirror_mode": {
    "name": "ipython",
    "version": 3
   },
   "file_extension": ".py",
   "mimetype": "text/x-python",
   "name": "python",
   "nbconvert_exporter": "python",
   "pygments_lexer": "ipython3",
   "version": "3.10.6"
  },
  "vscode": {
   "interpreter": {
    "hash": "31f2aee4e71d21fbe5cf8b01ff0e069b9275f58929596ceb00d14d90e3e16cd6"
   }
  }
 },
 "nbformat": 4,
 "nbformat_minor": 2
}
